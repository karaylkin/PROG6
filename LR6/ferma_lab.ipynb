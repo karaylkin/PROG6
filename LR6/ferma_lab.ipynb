{
 "cells": [
  {
   "cell_type": "markdown",
   "id": "35a19730",
   "metadata": {},
   "source": [
    "# Лабораторная работа: Метод Ферма + Cython + многопоточность"
   ]
  },
  {
   "cell_type": "code",
   "execution_count": 9,
   "id": "61bf5dee",
   "metadata": {},
   "outputs": [
    {
     "name": "stdout",
     "output_type": "stream",
     "text": [
      "Requirement already satisfied: pip in c:\\users\\radmi\\appdata\\local\\programs\\python\\python312\\lib\\site-packages (25.1.1)\n",
      "Note: you may need to restart the kernel to use updated packages.\n"
     ]
    }
   ],
   "source": [
    "pip install --upgrade pip"
   ]
  },
  {
   "cell_type": "markdown",
   "id": "8fcecd0d",
   "metadata": {},
   "source": [
    "## Шаг 1. Обычная реализация на Python"
   ]
  },
  {
   "cell_type": "code",
   "execution_count": 10,
   "id": "5df1e395",
   "metadata": {},
   "outputs": [],
   "source": [
    "import math\n",
    "\n",
    "def is_perfect_square(n):\n",
    "    root = int(math.isqrt(n))\n",
    "    return root * root == n\n",
    "\n",
    "def fermat_factorization(N):\n",
    "    if N % 2 == 0:\n",
    "        return 2, N // 2\n",
    "    x = math.isqrt(N) + 1\n",
    "    while True:\n",
    "        y_squared = x * x - N\n",
    "        if is_perfect_square(y_squared):\n",
    "            y = int(math.isqrt(y_squared))\n",
    "            return (x - y, x + y)\n",
    "        x += 1\n"
   ]
  },
  {
   "cell_type": "markdown",
   "id": "161afcb5",
   "metadata": {},
   "source": [
    "## Шаг 2. Измерение времени выполнения Python-версии"
   ]
  },
  {
   "cell_type": "code",
   "execution_count": 11,
   "id": "2ccab8ca",
   "metadata": {},
   "outputs": [
    {
     "name": "stdout",
     "output_type": "stream",
     "text": [
      "Python baseline: 25.37 секунд\n"
     ]
    }
   ],
   "source": [
    "import timeit\n",
    "\n",
    "TEST_LST = [101, 9973, 104729, 101909, 609133, 1300039, 9999991, 99999959, 99999971, 3000009, 700000133]\n",
    "\n",
    "time_res = timeit.repeat(\n",
    "    \"res = [fermat_factorization(i) for i in TEST_LST]\",\n",
    "    setup=\"from __main__ import fermat_factorization, TEST_LST\",\n",
    "    number=1,\n",
    "    repeat=1\n",
    ")\n",
    "print(f\"Python baseline: {time_res[0]:.2f} секунд\")\n"
   ]
  },
  {
   "cell_type": "markdown",
   "id": "d2f16ad2-dc4a-4555-998e-865798695deb",
   "metadata": {},
   "source": [
    "## Шаг 3. Измерение времени выполнения Python-версии"
   ]
  },
  {
   "cell_type": "code",
   "execution_count": 17,
   "id": "93c44900-e603-439f-ac2a-f91729e88a03",
   "metadata": {},
   "outputs": [],
   "source": [
    "from ferma_fact_cy import fermat_factorization_cy"
   ]
  },
  {
   "cell_type": "code",
   "execution_count": 21,
   "id": "8479c3c2-69bc-44aa-8708-e962c4555741",
   "metadata": {},
   "outputs": [
    {
     "name": "stdout",
     "output_type": "stream",
     "text": [
      "Cython время: 0.0134 секунд\n",
      "Python baseline: 25.37 секунд\n"
     ]
    }
   ],
   "source": [
    "import timeit\n",
    "\n",
    "TEST_LST = [101, 9973, 104729, 101909, 609133, 1300039, 9999991, 99999959, 99999971, 3000009, 700000133]\n",
    "\n",
    "time_res_cy = timeit.repeat(\n",
    "    \"res = [fermat_factorization_cy(i) for i in TEST_LST]\",\n",
    "    setup=\"from ferma_fact_cy import fermat_factorization_cy; from __main__ import TEST_LST\",\n",
    "    number=1,\n",
    "    repeat=1\n",
    ")\n",
    "print(f\"Cython время: {time_res_cy[0]:.4f} секунд\")\n"
   ]
  },
  {
   "cell_type": "markdown",
   "id": "303c9900-52ac-4364-909d-db88a314b840",
   "metadata": {},
   "source": [
    "## Шаг 4. Сравнение времени выполнения Python vs Cython"
   ]
  },
  {
   "cell_type": "code",
   "execution_count": 19,
   "id": "80234b77-11ea-4076-9dd5-335b8b4e2fe3",
   "metadata": {},
   "outputs": [
    {
     "data": {
      "image/png": "[encoded data removed]",
      "text/plain": [
       "<Figure size 600x400 with 1 Axes>"
      ]
     },
     "metadata": {},
     "output_type": "display_data"
    }
   ],
   "source": [
    "import matplotlib.pyplot as plt\n",
    "\n",
    "labels = ['Python', 'Cython']\n",
    "times = [time_res[0], time_res_cy[0] if time_res_cy[0] > 0 else 1e-4]  # защита от нуля\n",
    "\n",
    "plt.figure(figsize=(6, 4))\n",
    "plt.bar(labels, times)\n",
    "plt.yscale(\"log\")  # логарифмическая шкала по оси Y\n",
    "plt.ylabel(\"Секунды (логарифмическая шкала)\")\n",
    "plt.title(\"Сравнение времени выполнения (Python vs Cython)\")\n",
    "for i, v in enumerate(times):\n",
    "    plt.text(i, v, f\"{v:.4f} с\", ha='center', va='bottom')\n",
    "plt.show()\n"
   ]
  },
  {
   "cell_type": "code",
   "execution_count": null,
   "id": "fe41b981-5c16-41f7-92a5-f8321088a2d2",
   "metadata": {},
   "outputs": [],
   "source": []
  }
 ],
 "metadata": {
  "kernelspec": {
   "display_name": "Python 3 (ipykernel)",
   "language": "python",
   "name": "python3"
  },
  "language_info": {
   "codemirror_mode": {
    "name": "ipython",
    "version": 3
   },
   "file_extension": ".py",
   "mimetype": "text/x-python",
   "name": "python",
   "nbconvert_exporter": "python",
   "pygments_lexer": "ipython3",
   "version": "3.12.2"
  }
 },
 "nbformat": 4,
 "nbformat_minor": 5
}
